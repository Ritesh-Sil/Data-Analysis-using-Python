{
 "cells": [
  {
   "cell_type": "code",
   "execution_count": 2,
   "id": "c39aa459",
   "metadata": {},
   "outputs": [],
   "source": [
    "import numpy as np\n",
    "import pandas as pd\n",
    "import matplotlib.pyplot as plt\n",
    "import seaborn as sns"
   ]
  },
  {
   "cell_type": "code",
   "execution_count": 3,
   "id": "b9a2e92f",
   "metadata": {},
   "outputs": [],
   "source": [
    "path ='C:\\\\Users\\\\silri\\\\Applied_AI\\\\EDA\\DataSets\\\\Spottify_reviews'\n",
    "file = 'spottify_reviews.csv'"
   ]
  },
  {
   "cell_type": "code",
   "execution_count": 4,
   "id": "61de2535",
   "metadata": {},
   "outputs": [],
   "source": [
    "df_raw = pd.read_csv(path+'\\\\'+file)"
   ]
  },
  {
   "cell_type": "code",
   "execution_count": 5,
   "id": "08dadfba",
   "metadata": {},
   "outputs": [],
   "source": [
    "df = df_raw"
   ]
  },
  {
   "cell_type": "code",
   "execution_count": 6,
   "id": "46a7f7bd",
   "metadata": {},
   "outputs": [
    {
     "data": {
      "text/html": [
       "<div>\n",
       "<style scoped>\n",
       "    .dataframe tbody tr th:only-of-type {\n",
       "        vertical-align: middle;\n",
       "    }\n",
       "\n",
       "    .dataframe tbody tr th {\n",
       "        vertical-align: top;\n",
       "    }\n",
       "\n",
       "    .dataframe thead th {\n",
       "        text-align: right;\n",
       "    }\n",
       "</style>\n",
       "<table border=\"1\" class=\"dataframe\">\n",
       "  <thead>\n",
       "    <tr style=\"text-align: right;\">\n",
       "      <th></th>\n",
       "      <th>Time_submitted</th>\n",
       "      <th>Review</th>\n",
       "      <th>Rating</th>\n",
       "      <th>Total_thumbsup</th>\n",
       "      <th>Reply</th>\n",
       "    </tr>\n",
       "  </thead>\n",
       "  <tbody>\n",
       "    <tr>\n",
       "      <th>0</th>\n",
       "      <td>2022-07-09 15:00:00</td>\n",
       "      <td>Great music service, the audio is high quality...</td>\n",
       "      <td>5</td>\n",
       "      <td>2</td>\n",
       "      <td>NaN</td>\n",
       "    </tr>\n",
       "    <tr>\n",
       "      <th>1</th>\n",
       "      <td>2022-07-09 14:21:22</td>\n",
       "      <td>Please ignore previous negative rating. This a...</td>\n",
       "      <td>5</td>\n",
       "      <td>1</td>\n",
       "      <td>NaN</td>\n",
       "    </tr>\n",
       "    <tr>\n",
       "      <th>2</th>\n",
       "      <td>2022-07-09 13:27:32</td>\n",
       "      <td>This pop-up \"Get the best Spotify experience o...</td>\n",
       "      <td>4</td>\n",
       "      <td>0</td>\n",
       "      <td>NaN</td>\n",
       "    </tr>\n",
       "    <tr>\n",
       "      <th>3</th>\n",
       "      <td>2022-07-09 13:26:45</td>\n",
       "      <td>Really buggy and terrible to use as of recently</td>\n",
       "      <td>1</td>\n",
       "      <td>1</td>\n",
       "      <td>NaN</td>\n",
       "    </tr>\n",
       "    <tr>\n",
       "      <th>4</th>\n",
       "      <td>2022-07-09 13:20:49</td>\n",
       "      <td>Dear Spotify why do I get songs that I didn't ...</td>\n",
       "      <td>1</td>\n",
       "      <td>1</td>\n",
       "      <td>NaN</td>\n",
       "    </tr>\n",
       "  </tbody>\n",
       "</table>\n",
       "</div>"
      ],
      "text/plain": [
       "        Time_submitted                                             Review  \\\n",
       "0  2022-07-09 15:00:00  Great music service, the audio is high quality...   \n",
       "1  2022-07-09 14:21:22  Please ignore previous negative rating. This a...   \n",
       "2  2022-07-09 13:27:32  This pop-up \"Get the best Spotify experience o...   \n",
       "3  2022-07-09 13:26:45    Really buggy and terrible to use as of recently   \n",
       "4  2022-07-09 13:20:49  Dear Spotify why do I get songs that I didn't ...   \n",
       "\n",
       "   Rating  Total_thumbsup Reply  \n",
       "0       5               2   NaN  \n",
       "1       5               1   NaN  \n",
       "2       4               0   NaN  \n",
       "3       1               1   NaN  \n",
       "4       1               1   NaN  "
      ]
     },
     "execution_count": 6,
     "metadata": {},
     "output_type": "execute_result"
    }
   ],
   "source": [
    "df.head()"
   ]
  },
  {
   "cell_type": "code",
   "execution_count": 7,
   "id": "7ee45d2b",
   "metadata": {},
   "outputs": [
    {
     "data": {
      "text/plain": [
       "5    22095\n",
       "1    17653\n",
       "4     7842\n",
       "2     7118\n",
       "3     6886\n",
       "Name: Rating, dtype: int64"
      ]
     },
     "execution_count": 7,
     "metadata": {},
     "output_type": "execute_result"
    }
   ],
   "source": [
    "df['Rating'].value_counts()"
   ]
  },
  {
   "cell_type": "code",
   "execution_count": 8,
   "id": "93c7c7cf",
   "metadata": {},
   "outputs": [],
   "source": [
    "df['Reply'].fillna('Null', inplace=True)"
   ]
  },
  {
   "cell_type": "code",
   "execution_count": 9,
   "id": "99b901b4",
   "metadata": {},
   "outputs": [
    {
     "data": {
      "text/html": [
       "<div>\n",
       "<style scoped>\n",
       "    .dataframe tbody tr th:only-of-type {\n",
       "        vertical-align: middle;\n",
       "    }\n",
       "\n",
       "    .dataframe tbody tr th {\n",
       "        vertical-align: top;\n",
       "    }\n",
       "\n",
       "    .dataframe thead th {\n",
       "        text-align: right;\n",
       "    }\n",
       "</style>\n",
       "<table border=\"1\" class=\"dataframe\">\n",
       "  <thead>\n",
       "    <tr style=\"text-align: right;\">\n",
       "      <th></th>\n",
       "      <th>Time_submitted</th>\n",
       "      <th>Review</th>\n",
       "      <th>Rating</th>\n",
       "      <th>Total_thumbsup</th>\n",
       "      <th>Reply</th>\n",
       "    </tr>\n",
       "  </thead>\n",
       "  <tbody>\n",
       "    <tr>\n",
       "      <th>73</th>\n",
       "      <td>2022-07-09 09:50:47</td>\n",
       "      <td>Great song selection, amazing audio quality. H...</td>\n",
       "      <td>3</td>\n",
       "      <td>8</td>\n",
       "      <td>Hey, thanks for the feedback! We'd love to hel...</td>\n",
       "    </tr>\n",
       "    <tr>\n",
       "      <th>699</th>\n",
       "      <td>2022-07-08 01:51:27</td>\n",
       "      <td>Seems like the random stopping of music has be...</td>\n",
       "      <td>4</td>\n",
       "      <td>4</td>\n",
       "      <td>Hey, thanks for the report. If you haven't tri...</td>\n",
       "    </tr>\n",
       "    <tr>\n",
       "      <th>1151</th>\n",
       "      <td>2022-07-07 03:39:14</td>\n",
       "      <td>They would add their songs to MY PLAYLIST! I c...</td>\n",
       "      <td>1</td>\n",
       "      <td>1</td>\n",
       "      <td>Hey, thanks for the feedback! You can always a...</td>\n",
       "    </tr>\n",
       "    <tr>\n",
       "      <th>1277</th>\n",
       "      <td>2022-07-06 20:16:03</td>\n",
       "      <td>I paid last month for Premium Family &amp; my wife...</td>\n",
       "      <td>5</td>\n",
       "      <td>0</td>\n",
       "      <td>Hi James! We’re sorry to hear that. We’d love ...</td>\n",
       "    </tr>\n",
       "    <tr>\n",
       "      <th>1668</th>\n",
       "      <td>2022-07-06 00:59:54</td>\n",
       "      <td>I really don't care about the random pauses in...</td>\n",
       "      <td>3</td>\n",
       "      <td>0</td>\n",
       "      <td>Hi again. If you haven't tried Premium yet, we...</td>\n",
       "    </tr>\n",
       "    <tr>\n",
       "      <th>...</th>\n",
       "      <td>...</td>\n",
       "      <td>...</td>\n",
       "      <td>...</td>\n",
       "      <td>...</td>\n",
       "      <td>...</td>\n",
       "    </tr>\n",
       "    <tr>\n",
       "      <th>61116</th>\n",
       "      <td>2022-01-09 13:40:37</td>\n",
       "      <td>Why can't you skip back without premium? Spoti...</td>\n",
       "      <td>4</td>\n",
       "      <td>3</td>\n",
       "      <td>Hey! Have you tried restarting your device or ...</td>\n",
       "    </tr>\n",
       "    <tr>\n",
       "      <th>61257</th>\n",
       "      <td>2022-01-07 01:44:14</td>\n",
       "      <td>Ads are fine, if anything they're a necessity....</td>\n",
       "      <td>1</td>\n",
       "      <td>5</td>\n",
       "      <td>Hey, thanks for the feedback. Suggested tracks...</td>\n",
       "    </tr>\n",
       "    <tr>\n",
       "      <th>61374</th>\n",
       "      <td>2022-01-05 02:35:44</td>\n",
       "      <td>Considering stopping my subscription due to th...</td>\n",
       "      <td>1</td>\n",
       "      <td>0</td>\n",
       "      <td>Hey! We'd love to help get this fixed. If you ...</td>\n",
       "    </tr>\n",
       "    <tr>\n",
       "      <th>61397</th>\n",
       "      <td>2022-01-04 16:59:22</td>\n",
       "      <td>I am 100% sure this is the worst music app I e...</td>\n",
       "      <td>3</td>\n",
       "      <td>0</td>\n",
       "      <td>Hey! We're sorry to hear you feel that way abo...</td>\n",
       "    </tr>\n",
       "    <tr>\n",
       "      <th>61431</th>\n",
       "      <td>2022-01-04 04:15:07</td>\n",
       "      <td>The app lies. I tried listening to an ad to ge...</td>\n",
       "      <td>1</td>\n",
       "      <td>1</td>\n",
       "      <td>Hey there. Just to check, did you keep the vid...</td>\n",
       "    </tr>\n",
       "  </tbody>\n",
       "</table>\n",
       "<p>216 rows × 5 columns</p>\n",
       "</div>"
      ],
      "text/plain": [
       "            Time_submitted                                             Review  \\\n",
       "73     2022-07-09 09:50:47  Great song selection, amazing audio quality. H...   \n",
       "699    2022-07-08 01:51:27  Seems like the random stopping of music has be...   \n",
       "1151   2022-07-07 03:39:14  They would add their songs to MY PLAYLIST! I c...   \n",
       "1277   2022-07-06 20:16:03  I paid last month for Premium Family & my wife...   \n",
       "1668   2022-07-06 00:59:54  I really don't care about the random pauses in...   \n",
       "...                    ...                                                ...   \n",
       "61116  2022-01-09 13:40:37  Why can't you skip back without premium? Spoti...   \n",
       "61257  2022-01-07 01:44:14  Ads are fine, if anything they're a necessity....   \n",
       "61374  2022-01-05 02:35:44  Considering stopping my subscription due to th...   \n",
       "61397  2022-01-04 16:59:22  I am 100% sure this is the worst music app I e...   \n",
       "61431  2022-01-04 04:15:07  The app lies. I tried listening to an ad to ge...   \n",
       "\n",
       "       Rating  Total_thumbsup  \\\n",
       "73          3               8   \n",
       "699         4               4   \n",
       "1151        1               1   \n",
       "1277        5               0   \n",
       "1668        3               0   \n",
       "...       ...             ...   \n",
       "61116       4               3   \n",
       "61257       1               5   \n",
       "61374       1               0   \n",
       "61397       3               0   \n",
       "61431       1               1   \n",
       "\n",
       "                                                   Reply  \n",
       "73     Hey, thanks for the feedback! We'd love to hel...  \n",
       "699    Hey, thanks for the report. If you haven't tri...  \n",
       "1151   Hey, thanks for the feedback! You can always a...  \n",
       "1277   Hi James! We’re sorry to hear that. We’d love ...  \n",
       "1668   Hi again. If you haven't tried Premium yet, we...  \n",
       "...                                                  ...  \n",
       "61116  Hey! Have you tried restarting your device or ...  \n",
       "61257  Hey, thanks for the feedback. Suggested tracks...  \n",
       "61374  Hey! We'd love to help get this fixed. If you ...  \n",
       "61397  Hey! We're sorry to hear you feel that way abo...  \n",
       "61431  Hey there. Just to check, did you keep the vid...  \n",
       "\n",
       "[216 rows x 5 columns]"
      ]
     },
     "execution_count": 9,
     "metadata": {},
     "output_type": "execute_result"
    }
   ],
   "source": [
    "df[df['Reply'] != 'Null']"
   ]
  },
  {
   "cell_type": "code",
   "execution_count": 61,
   "id": "abde9a76",
   "metadata": {},
   "outputs": [
    {
     "data": {
      "image/png": "[encoded data removed]",
      "text/plain": [
       "<Figure size 1152x432 with 2 Axes>"
      ]
     },
     "metadata": {},
     "output_type": "display_data"
    }
   ],
   "source": [
    "fig = plt.figure(figsize=(16,6))\n",
    "fig.tight_layout(w_pad = 8)\n",
    "ax1 = fig.add_subplot(1,2,1)\n",
    "sns.set_theme(style =\"darkgrid\") \n",
    "sns.scatterplot(data = df , x = 'Rating', y='Total_thumbsup', hue = 'Rating', palette='pastel')\n",
    "ax1.set_xlabel('Rating', fontsize = 14)\n",
    "ax1.set_ylabel('Total Thumbsup', fontsize = 14)\n",
    "ax1.set_title('Scatterplot : Rating vs Thumbsup', fontsize = 14 )\n",
    "plt.xticks(fontsize = 14)\n",
    "plt.yticks(fontsize = 14)\n",
    "plt.legend(fontsize = 14)\n",
    "\n",
    "ax2 = fig.add_subplot(1,2,2)\n",
    "sns.lineplot(data = df, x='Rating',y='Total_thumbsup', color = '#323264', linestyle = '-.', marker='o' )\n",
    "ax2.set_xlabel('Rating', fontsize = 14)\n",
    "ax2.set_ylabel('Total Thumbsup', fontsize = 14)\n",
    "ax2.set_title('Lineplot : Rating vs Thumbsup', fontsize = 14 )\n",
    "plt.xticks(fontsize = 14)\n",
    "plt.yticks(fontsize = 14)\n",
    "plt.show()"
   ]
  },
  {
   "cell_type": "code",
   "execution_count": null,
   "id": "6899ad54",
   "metadata": {},
   "outputs": [],
   "source": []
  }
 ],
 "metadata": {
  "kernelspec": {
   "display_name": "Python 3 (ipykernel)",
   "language": "python",
   "name": "python3"
  },
  "language_info": {
   "codemirror_mode": {
    "name": "ipython",
    "version": 3
   },
   "file_extension": ".py",
   "mimetype": "text/x-python",
   "name": "python",
   "nbconvert_exporter": "python",
   "pygments_lexer": "ipython3",
   "version": "3.9.12"
  }
 },
 "nbformat": 4,
 "nbformat_minor": 5
}
